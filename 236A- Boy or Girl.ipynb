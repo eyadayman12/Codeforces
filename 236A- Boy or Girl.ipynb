{
 "cells": [
  {
   "cell_type": "markdown",
   "id": "475aaee4",
   "metadata": {},
   "source": [
    "# Codeforces Problem 236A- Boy or Girl"
   ]
  },
  {
   "cell_type": "code",
   "execution_count": 5,
   "id": "0ccb5607",
   "metadata": {
    "ExecuteTime": {
     "end_time": "2021-09-16T14:28:25.461348Z",
     "start_time": "2021-09-16T14:28:13.159832Z"
    }
   },
   "outputs": [
    {
     "name": "stdout",
     "output_type": "stream",
     "text": [
      "wjmzbmr\n",
      "CHAT WITH HER!\n"
     ]
    }
   ],
   "source": [
    "username = input().lower()\n",
    "username = str(set(username))\n",
    "\n",
    "if len(username) % 2 == 0:\n",
    "    print(\"CHAT WITH HER!\")\n",
    "else:\n",
    "    print(\"IGNORE HIM!\")\n"
   ]
  },
  {
   "cell_type": "code",
   "execution_count": 6,
   "id": "547a010b",
   "metadata": {
    "ExecuteTime": {
     "end_time": "2021-09-16T14:28:39.380866Z",
     "start_time": "2021-09-16T14:28:33.741792Z"
    }
   },
   "outputs": [
    {
     "name": "stdout",
     "output_type": "stream",
     "text": [
      "xiaodao\n",
      "IGNORE HIM!\n"
     ]
    }
   ],
   "source": [
    "#Second Run"
   ]
  },
  {
   "cell_type": "code",
   "execution_count": 7,
   "id": "279a08d3",
   "metadata": {
    "ExecuteTime": {
     "end_time": "2021-09-16T14:29:00.720679Z",
     "start_time": "2021-09-16T14:28:55.456961Z"
    }
   },
   "outputs": [
    {
     "name": "stdout",
     "output_type": "stream",
     "text": [
      "sevenkplus\n",
      "CHAT WITH HER!\n"
     ]
    }
   ],
   "source": [
    "#Third Run"
   ]
  }
 ],
 "metadata": {
  "kernelspec": {
   "display_name": "Python 3",
   "language": "python",
   "name": "python3"
  },
  "language_info": {
   "codemirror_mode": {
    "name": "ipython",
    "version": 3
   },
   "file_extension": ".py",
   "mimetype": "text/x-python",
   "name": "python",
   "nbconvert_exporter": "python",
   "pygments_lexer": "ipython3",
   "version": "3.8.8"
  },
  "toc": {
   "base_numbering": 1,
   "nav_menu": {},
   "number_sections": true,
   "sideBar": true,
   "skip_h1_title": false,
   "title_cell": "Table of Contents",
   "title_sidebar": "Contents",
   "toc_cell": false,
   "toc_position": {},
   "toc_section_display": true,
   "toc_window_display": false
  }
 },
 "nbformat": 4,
 "nbformat_minor": 5
}
