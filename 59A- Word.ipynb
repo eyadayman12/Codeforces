{
 "cells": [
  {
   "cell_type": "markdown",
   "id": "1b625371",
   "metadata": {},
   "source": [
    "# Codeforces Problem 59A- Word "
   ]
  },
  {
   "cell_type": "code",
   "execution_count": 2,
   "id": "e2eb89ce",
   "metadata": {
    "ExecuteTime": {
     "end_time": "2021-09-19T04:47:59.644723Z",
     "start_time": "2021-09-19T04:47:50.467373Z"
    }
   },
   "outputs": [
    {
     "name": "stdout",
     "output_type": "stream",
     "text": [
      "HoUse\n",
      "house\n"
     ]
    }
   ],
   "source": [
    "s = input()\n",
    "uppercase = 0\n",
    "lowercase = 0\n",
    "\n",
    "for i in range(len(s)):\n",
    "    if s[i] == s[i].lower():\n",
    "        lowercase += 1\n",
    "    elif s[i] == s[i].upper():\n",
    "        uppercase += 1\n",
    "        \n",
    "if lowercase >= uppercase:\n",
    "    print(s.lower())\n",
    "elif uppercase > lowercase:\n",
    "    print(s.upper())"
   ]
  },
  {
   "cell_type": "code",
   "execution_count": 3,
   "id": "68be1484",
   "metadata": {
    "ExecuteTime": {
     "end_time": "2021-09-19T04:48:16.144476Z",
     "start_time": "2021-09-19T04:48:12.603962Z"
    }
   },
   "outputs": [
    {
     "name": "stdout",
     "output_type": "stream",
     "text": [
      "ViP\n",
      "VIP\n"
     ]
    }
   ],
   "source": [
    "#Second Run"
   ]
  },
  {
   "cell_type": "code",
   "execution_count": 4,
   "id": "62b95e61",
   "metadata": {
    "ExecuteTime": {
     "end_time": "2021-09-19T04:48:33.837512Z",
     "start_time": "2021-09-19T04:48:25.579816Z"
    }
   },
   "outputs": [
    {
     "name": "stdout",
     "output_type": "stream",
     "text": [
      "maTRIx\n",
      "matrix\n"
     ]
    }
   ],
   "source": [
    "#Third Run"
   ]
  }
 ],
 "metadata": {
  "kernelspec": {
   "display_name": "Python 3",
   "language": "python",
   "name": "python3"
  },
  "language_info": {
   "codemirror_mode": {
    "name": "ipython",
    "version": 3
   },
   "file_extension": ".py",
   "mimetype": "text/x-python",
   "name": "python",
   "nbconvert_exporter": "python",
   "pygments_lexer": "ipython3",
   "version": "3.8.8"
  },
  "toc": {
   "base_numbering": 1,
   "nav_menu": {},
   "number_sections": true,
   "sideBar": true,
   "skip_h1_title": false,
   "title_cell": "Table of Contents",
   "title_sidebar": "Contents",
   "toc_cell": false,
   "toc_position": {},
   "toc_section_display": true,
   "toc_window_display": false
  }
 },
 "nbformat": 4,
 "nbformat_minor": 5
}
