{
 "cells": [
  {
   "cell_type": "markdown",
   "id": "26e6b6d5",
   "metadata": {},
   "source": [
    "# Codeforces Problem 977A- Wrong Subtraction"
   ]
  },
  {
   "cell_type": "code",
   "execution_count": 1,
   "id": "5232b7d0",
   "metadata": {
    "ExecuteTime": {
     "end_time": "2021-09-19T04:32:04.018326Z",
     "start_time": "2021-09-19T04:32:02.379351Z"
    }
   },
   "outputs": [
    {
     "name": "stdout",
     "output_type": "stream",
     "text": [
      "512 4\n",
      "50\n"
     ]
    }
   ],
   "source": [
    "n,k = map(int, input().split())\n",
    "\n",
    "for i in range(k):\n",
    "    n = str(n)\n",
    "    if len(n) > 1:\n",
    "        if n[-1] == '0':\n",
    "            n = int(n)\n",
    "            n = n // 10\n",
    "        else:\n",
    "            n = int(n)\n",
    "            n-=1\n",
    "    else:\n",
    "        n = int(n)\n",
    "        n -= 1\n",
    "        \n",
    "n = int(n)\n",
    "print(n)"
   ]
  },
  {
   "cell_type": "code",
   "execution_count": 2,
   "id": "a1e75004",
   "metadata": {
    "ExecuteTime": {
     "end_time": "2021-09-19T04:32:21.860502Z",
     "start_time": "2021-09-19T04:32:15.398224Z"
    }
   },
   "outputs": [
    {
     "name": "stdout",
     "output_type": "stream",
     "text": [
      "1000000000 9\n",
      "1\n"
     ]
    }
   ],
   "source": [
    "#Second Run"
   ]
  }
 ],
 "metadata": {
  "kernelspec": {
   "display_name": "Python 3",
   "language": "python",
   "name": "python3"
  },
  "language_info": {
   "codemirror_mode": {
    "name": "ipython",
    "version": 3
   },
   "file_extension": ".py",
   "mimetype": "text/x-python",
   "name": "python",
   "nbconvert_exporter": "python",
   "pygments_lexer": "ipython3",
   "version": "3.8.8"
  },
  "toc": {
   "base_numbering": 1,
   "nav_menu": {},
   "number_sections": true,
   "sideBar": true,
   "skip_h1_title": false,
   "title_cell": "Table of Contents",
   "title_sidebar": "Contents",
   "toc_cell": false,
   "toc_position": {},
   "toc_section_display": true,
   "toc_window_display": false
  }
 },
 "nbformat": 4,
 "nbformat_minor": 5
}
