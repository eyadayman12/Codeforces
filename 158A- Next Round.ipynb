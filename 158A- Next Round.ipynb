{
 "cells": [
  {
   "cell_type": "markdown",
   "id": "34ed0849",
   "metadata": {},
   "source": [
    "# Codeforces Problem 158A- Next Round"
   ]
  },
  {
   "cell_type": "code",
   "execution_count": 1,
   "id": "a363ed1f",
   "metadata": {
    "ExecuteTime": {
     "end_time": "2021-09-13T00:42:50.022318Z",
     "start_time": "2021-09-13T00:42:30.671831Z"
    }
   },
   "outputs": [
    {
     "name": "stdout",
     "output_type": "stream",
     "text": [
      "8 5\n",
      "10 9 8 7 7 7 5 5\n",
      "6\n"
     ]
    }
   ],
   "source": [
    "n,k = map(int, input().split())\n",
    "contestant = list(map(int, input().split()))\n",
    "temp = contestant[k-1]\n",
    "count = 0\n",
    "\n",
    "for i in range(len(contestant)):\n",
    "    if contestant[i] >= temp and contestant[i] > 0:\n",
    "        count += 1\n",
    "        \n",
    "print(count)"
   ]
  },
  {
   "cell_type": "code",
   "execution_count": 2,
   "id": "f513ce3a",
   "metadata": {
    "ExecuteTime": {
     "end_time": "2021-09-13T00:43:10.646328Z",
     "start_time": "2021-09-13T00:43:05.833439Z"
    }
   },
   "outputs": [
    {
     "name": "stdout",
     "output_type": "stream",
     "text": [
      "4 2\n",
      "0 0 0 0\n",
      "0\n"
     ]
    }
   ],
   "source": [
    "#second Run"
   ]
  }
 ],
 "metadata": {
  "kernelspec": {
   "display_name": "Python 3",
   "language": "python",
   "name": "python3"
  },
  "language_info": {
   "codemirror_mode": {
    "name": "ipython",
    "version": 3
   },
   "file_extension": ".py",
   "mimetype": "text/x-python",
   "name": "python",
   "nbconvert_exporter": "python",
   "pygments_lexer": "ipython3",
   "version": "3.8.8"
  },
  "toc": {
   "base_numbering": 1,
   "nav_menu": {},
   "number_sections": true,
   "sideBar": true,
   "skip_h1_title": false,
   "title_cell": "Table of Contents",
   "title_sidebar": "Contents",
   "toc_cell": false,
   "toc_position": {},
   "toc_section_display": true,
   "toc_window_display": false
  }
 },
 "nbformat": 4,
 "nbformat_minor": 5
}
