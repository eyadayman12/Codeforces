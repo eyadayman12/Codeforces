{
 "cells": [
  {
   "cell_type": "markdown",
   "id": "b0e2bf35",
   "metadata": {},
   "source": [
    "# Codeforces Problem 282A- Bit++"
   ]
  },
  {
   "cell_type": "code",
   "execution_count": 13,
   "id": "285423d9",
   "metadata": {
    "ExecuteTime": {
     "end_time": "2021-09-13T23:00:03.109099Z",
     "start_time": "2021-09-13T22:59:55.766604Z"
    }
   },
   "outputs": [
    {
     "name": "stdout",
     "output_type": "stream",
     "text": [
      "1\n",
      "++X\n",
      "1\n"
     ]
    }
   ],
   "source": [
    "x = 0\n",
    "n = int(input())\n",
    "\n",
    "for i in range(n):\n",
    "    k = input()\n",
    "    if k[0] == '+' or k[1] == '+':\n",
    "        x+=1\n",
    "    elif k[0] == '-' or k[1] == '-':\n",
    "        x-=1\n",
    "        \n",
    "print(x)"
   ]
  },
  {
   "cell_type": "code",
   "execution_count": 14,
   "id": "c7e598cd",
   "metadata": {
    "ExecuteTime": {
     "end_time": "2021-09-13T23:00:19.309978Z",
     "start_time": "2021-09-13T23:00:14.257588Z"
    }
   },
   "outputs": [
    {
     "name": "stdout",
     "output_type": "stream",
     "text": [
      "2\n",
      "X++\n",
      "--X\n",
      "0\n"
     ]
    }
   ],
   "source": [
    "#second Run"
   ]
  }
 ],
 "metadata": {
  "kernelspec": {
   "display_name": "Python 3",
   "language": "python",
   "name": "python3"
  },
  "language_info": {
   "codemirror_mode": {
    "name": "ipython",
    "version": 3
   },
   "file_extension": ".py",
   "mimetype": "text/x-python",
   "name": "python",
   "nbconvert_exporter": "python",
   "pygments_lexer": "ipython3",
   "version": "3.8.8"
  },
  "toc": {
   "base_numbering": 1,
   "nav_menu": {},
   "number_sections": true,
   "sideBar": true,
   "skip_h1_title": false,
   "title_cell": "Table of Contents",
   "title_sidebar": "Contents",
   "toc_cell": false,
   "toc_position": {},
   "toc_section_display": true,
   "toc_window_display": false
  }
 },
 "nbformat": 4,
 "nbformat_minor": 5
}
