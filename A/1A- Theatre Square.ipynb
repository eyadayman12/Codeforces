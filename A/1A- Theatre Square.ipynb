{
 "cells": [
  {
   "cell_type": "markdown",
   "id": "a8a4a2db",
   "metadata": {},
   "source": [
    "# Codeforces Problem 1A- Theatre Square"
   ]
  },
  {
   "cell_type": "code",
   "execution_count": 9,
   "id": "8dcc8046",
   "metadata": {
    "ExecuteTime": {
     "end_time": "2021-09-12T14:57:55.157063Z",
     "start_time": "2021-09-12T14:57:52.587597Z"
    }
   },
   "outputs": [
    {
     "name": "stdout",
     "output_type": "stream",
     "text": [
      "6 6 4\n",
      "4\n"
     ]
    }
   ],
   "source": [
    "#taking input of the 3 variables (n,m,a)\n",
    "n,m,a = map(int, input().split())\n",
    "\n",
    "if m%a == 0:\n",
    "    flagstones1 = m//a\n",
    "else:\n",
    "    flagstones1 = (m//a) + 1\n",
    "    \n",
    "if n%a == 0:\n",
    "    flagstones2 = n//a\n",
    "else:\n",
    "    flagstones2 = (n//a) + 1\n",
    "    \n",
    "number_of_needed_flagstones = flagstones1 * flagstones2\n",
    "print(number_of_needed_flagstones)"
   ]
  },
  {
   "cell_type": "code",
   "execution_count": null,
   "id": "e808ce19",
   "metadata": {},
   "outputs": [],
   "source": []
  }
 ],
 "metadata": {
  "kernelspec": {
   "display_name": "Python 3",
   "language": "python",
   "name": "python3"
  },
  "language_info": {
   "codemirror_mode": {
    "name": "ipython",
    "version": 3
   },
   "file_extension": ".py",
   "mimetype": "text/x-python",
   "name": "python",
   "nbconvert_exporter": "python",
   "pygments_lexer": "ipython3",
   "version": "3.8.8"
  },
  "toc": {
   "base_numbering": 1,
   "nav_menu": {},
   "number_sections": true,
   "sideBar": true,
   "skip_h1_title": false,
   "title_cell": "Table of Contents",
   "title_sidebar": "Contents",
   "toc_cell": false,
   "toc_position": {},
   "toc_section_display": true,
   "toc_window_display": false
  }
 },
 "nbformat": 4,
 "nbformat_minor": 5
}
