{
 "cells": [
  {
   "cell_type": "markdown",
   "id": "84d0d2b6",
   "metadata": {},
   "source": [
    "# Codeforces Problem 339A- Helpful Math"
   ]
  },
  {
   "cell_type": "code",
   "execution_count": 8,
   "id": "492df00d",
   "metadata": {
    "ExecuteTime": {
     "end_time": "2021-09-15T09:34:55.002991Z",
     "start_time": "2021-09-15T09:34:52.861595Z"
    }
   },
   "outputs": [
    {
     "name": "stdout",
     "output_type": "stream",
     "text": [
      "3+2+1\n",
      "1+2+3\n"
     ]
    }
   ],
   "source": [
    "unordered_sum = input()\n",
    "num1 = num2 = num3 = 0\n",
    "\n",
    "for i in range(0, len(unordered_sum), 2):\n",
    "    if unordered_sum[i] == '1':\n",
    "        num1 += 1\n",
    "        \n",
    "    elif unordered_sum[i] == '2':\n",
    "        num2 += 1\n",
    "        \n",
    "    elif unordered_sum[i] == '3':\n",
    "        num3 += 1\n",
    "    \n",
    "reorder_sum = \"1+\"*num1 + \"2+\"*num2 + \"3+\"*num3\n",
    "print(reorder_sum[:-1])"
   ]
  },
  {
   "cell_type": "code",
   "execution_count": 9,
   "id": "a26e5d47",
   "metadata": {
    "ExecuteTime": {
     "end_time": "2021-09-15T09:35:14.736548Z",
     "start_time": "2021-09-15T09:35:10.528498Z"
    }
   },
   "outputs": [
    {
     "name": "stdout",
     "output_type": "stream",
     "text": [
      "1+1+3+1+3\n",
      "1+1+1+3+3\n"
     ]
    }
   ],
   "source": [
    "#Second Run"
   ]
  },
  {
   "cell_type": "code",
   "execution_count": 10,
   "id": "1a1af607",
   "metadata": {
    "ExecuteTime": {
     "end_time": "2021-09-15T09:35:22.806598Z",
     "start_time": "2021-09-15T09:35:21.745387Z"
    }
   },
   "outputs": [
    {
     "name": "stdout",
     "output_type": "stream",
     "text": [
      "2\n",
      "2\n"
     ]
    }
   ],
   "source": [
    "#Third Run"
   ]
  }
 ],
 "metadata": {
  "kernelspec": {
   "display_name": "Python 3",
   "language": "python",
   "name": "python3"
  },
  "language_info": {
   "codemirror_mode": {
    "name": "ipython",
    "version": 3
   },
   "file_extension": ".py",
   "mimetype": "text/x-python",
   "name": "python",
   "nbconvert_exporter": "python",
   "pygments_lexer": "ipython3",
   "version": "3.8.8"
  },
  "toc": {
   "base_numbering": 1,
   "nav_menu": {},
   "number_sections": true,
   "sideBar": true,
   "skip_h1_title": false,
   "title_cell": "Table of Contents",
   "title_sidebar": "Contents",
   "toc_cell": false,
   "toc_position": {},
   "toc_section_display": true,
   "toc_window_display": false
  }
 },
 "nbformat": 4,
 "nbformat_minor": 5
}
