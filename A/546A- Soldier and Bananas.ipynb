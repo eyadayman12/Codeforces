{
 "cells": [
  {
   "cell_type": "markdown",
   "id": "a9416ce0",
   "metadata": {},
   "source": [
    "# Codeforces Problem 546A- Soldier and Bananas"
   ]
  },
  {
   "cell_type": "code",
   "execution_count": 2,
   "id": "14cd2c1a",
   "metadata": {
    "ExecuteTime": {
     "end_time": "2021-09-18T13:32:04.858710Z",
     "start_time": "2021-09-18T13:32:01.880608Z"
    }
   },
   "outputs": [
    {
     "name": "stdout",
     "output_type": "stream",
     "text": [
      "3 17 4\n",
      "13\n"
     ]
    }
   ],
   "source": [
    "k,n,w = map(int, input().split())\n",
    "total_dollars = 0\n",
    "\n",
    "for i in range(1, w+1):\n",
    "    total_dollars += i*k\n",
    "    \n",
    "borrow = total_dollars - n\n",
    "\n",
    "if n >= total_dollars:\n",
    "    print(0)\n",
    "else:\n",
    "    print(borrow)"
   ]
  },
  {
   "cell_type": "code",
   "execution_count": null,
   "id": "b8d62680",
   "metadata": {},
   "outputs": [],
   "source": []
  }
 ],
 "metadata": {
  "kernelspec": {
   "display_name": "Python 3",
   "language": "python",
   "name": "python3"
  },
  "language_info": {
   "codemirror_mode": {
    "name": "ipython",
    "version": 3
   },
   "file_extension": ".py",
   "mimetype": "text/x-python",
   "name": "python",
   "nbconvert_exporter": "python",
   "pygments_lexer": "ipython3",
   "version": "3.8.8"
  },
  "toc": {
   "base_numbering": 1,
   "nav_menu": {},
   "number_sections": true,
   "sideBar": true,
   "skip_h1_title": false,
   "title_cell": "Table of Contents",
   "title_sidebar": "Contents",
   "toc_cell": false,
   "toc_position": {},
   "toc_section_display": true,
   "toc_window_display": false
  }
 },
 "nbformat": 4,
 "nbformat_minor": 5
}
