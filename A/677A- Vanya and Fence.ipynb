{
 "cells": [
  {
   "cell_type": "markdown",
   "id": "e727df04",
   "metadata": {},
   "source": [
    "# Codeforces Problem 677A- Vanya and Fence"
   ]
  },
  {
   "cell_type": "code",
   "execution_count": 2,
   "id": "37bb08d7",
   "metadata": {
    "ExecuteTime": {
     "end_time": "2021-09-23T07:20:00.238883Z",
     "start_time": "2021-09-23T07:19:54.110925Z"
    }
   },
   "outputs": [
    {
     "name": "stdout",
     "output_type": "stream",
     "text": [
      "3 7\n",
      "4 5 14\n",
      "4\n"
     ]
    }
   ],
   "source": [
    "n,h = map(int, input().split())\n",
    "a = list(map(int, input().split()))\n",
    "width = 0\n",
    "for i in range(n):\n",
    "    if a[i] > h:\n",
    "        width+=2\n",
    "    elif a[i] <= h:\n",
    "        width+=1\n",
    "\n",
    "print(width)"
   ]
  },
  {
   "cell_type": "code",
   "execution_count": 3,
   "id": "522a3783",
   "metadata": {
    "ExecuteTime": {
     "end_time": "2021-09-23T07:20:17.240728Z",
     "start_time": "2021-09-23T07:20:11.340198Z"
    }
   },
   "outputs": [
    {
     "name": "stdout",
     "output_type": "stream",
     "text": [
      "6 1\n",
      "1 1 1 1 1 1\n",
      "6\n"
     ]
    }
   ],
   "source": [
    "#Second Run"
   ]
  },
  {
   "cell_type": "code",
   "execution_count": 4,
   "id": "37480098",
   "metadata": {
    "ExecuteTime": {
     "end_time": "2021-09-23T07:20:33.571549Z",
     "start_time": "2021-09-23T07:20:24.842577Z"
    }
   },
   "outputs": [
    {
     "name": "stdout",
     "output_type": "stream",
     "text": [
      "6 5\n",
      "7 6 8 9 10 5\n",
      "11\n"
     ]
    }
   ],
   "source": [
    "#Third Run"
   ]
  }
 ],
 "metadata": {
  "kernelspec": {
   "display_name": "Python 3",
   "language": "python",
   "name": "python3"
  },
  "language_info": {
   "codemirror_mode": {
    "name": "ipython",
    "version": 3
   },
   "file_extension": ".py",
   "mimetype": "text/x-python",
   "name": "python",
   "nbconvert_exporter": "python",
   "pygments_lexer": "ipython3",
   "version": "3.8.8"
  },
  "toc": {
   "base_numbering": 1,
   "nav_menu": {},
   "number_sections": true,
   "sideBar": true,
   "skip_h1_title": false,
   "title_cell": "Table of Contents",
   "title_sidebar": "Contents",
   "toc_cell": false,
   "toc_position": {},
   "toc_section_display": true,
   "toc_window_display": false
  }
 },
 "nbformat": 4,
 "nbformat_minor": 5
}
