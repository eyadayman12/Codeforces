{
 "cells": [
  {
   "cell_type": "markdown",
   "id": "bfa9d09b",
   "metadata": {},
   "source": [
    "# Codeforces Problem 41A- Translation"
   ]
  },
  {
   "cell_type": "code",
   "execution_count": 21,
   "id": "2d39b195",
   "metadata": {
    "ExecuteTime": {
     "end_time": "2021-09-21T02:31:20.745867Z",
     "start_time": "2021-09-21T02:31:18.249846Z"
    }
   },
   "outputs": [
    {
     "name": "stdout",
     "output_type": "stream",
     "text": [
      "code\n",
      "edoc\n",
      "YES\n"
     ]
    }
   ],
   "source": [
    "s = input()\n",
    "t = input()\n",
    "a = ''\n",
    "for i in range(1,len(s)+1):\n",
    "    a+=s[-i]\n",
    "    \n",
    "\n",
    "if t == a:\n",
    "    print(\"YES\")\n",
    "else:\n",
    "    print(\"NO\")"
   ]
  },
  {
   "cell_type": "code",
   "execution_count": 22,
   "id": "642c4644",
   "metadata": {
    "ExecuteTime": {
     "end_time": "2021-09-21T02:32:58.238703Z",
     "start_time": "2021-09-21T02:32:46.346304Z"
    }
   },
   "outputs": [
    {
     "name": "stdout",
     "output_type": "stream",
     "text": [
      "abb\n",
      "aba\n",
      "NO\n"
     ]
    }
   ],
   "source": [
    "#Second Run"
   ]
  },
  {
   "cell_type": "code",
   "execution_count": 23,
   "id": "1aee5e64",
   "metadata": {
    "ExecuteTime": {
     "end_time": "2021-09-21T02:33:03.487964Z",
     "start_time": "2021-09-21T02:33:01.263587Z"
    }
   },
   "outputs": [
    {
     "name": "stdout",
     "output_type": "stream",
     "text": [
      "code\n",
      "code\n",
      "NO\n"
     ]
    }
   ],
   "source": [
    "#Third Run"
   ]
  }
 ],
 "metadata": {
  "kernelspec": {
   "display_name": "Python 3",
   "language": "python",
   "name": "python3"
  },
  "language_info": {
   "codemirror_mode": {
    "name": "ipython",
    "version": 3
   },
   "file_extension": ".py",
   "mimetype": "text/x-python",
   "name": "python",
   "nbconvert_exporter": "python",
   "pygments_lexer": "ipython3",
   "version": "3.8.8"
  },
  "toc": {
   "base_numbering": 1,
   "nav_menu": {},
   "number_sections": true,
   "sideBar": true,
   "skip_h1_title": false,
   "title_cell": "Table of Contents",
   "title_sidebar": "Contents",
   "toc_cell": false,
   "toc_position": {},
   "toc_section_display": true,
   "toc_window_display": false
  }
 },
 "nbformat": 4,
 "nbformat_minor": 5
}
