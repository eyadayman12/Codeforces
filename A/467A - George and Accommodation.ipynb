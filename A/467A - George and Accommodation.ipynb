{
 "cells": [
  {
   "cell_type": "markdown",
   "id": "0643a0eb",
   "metadata": {},
   "source": [
    "# Codeforces Problem 467A - George and Accommodation"
   ]
  },
  {
   "cell_type": "code",
   "execution_count": 3,
   "id": "e22ef005",
   "metadata": {
    "ExecuteTime": {
     "end_time": "2021-09-23T07:46:18.178695Z",
     "start_time": "2021-09-23T07:46:12.699261Z"
    }
   },
   "outputs": [
    {
     "name": "stdout",
     "output_type": "stream",
     "text": [
      "3\n",
      "1 1\n",
      "2 2\n",
      "3 3\n",
      "0\n"
     ]
    }
   ],
   "source": [
    "n = int(input())\n",
    "count = 0\n",
    "for i in range(n):\n",
    "    p,q = map(int, input().split())\n",
    "    if q>p+1:\n",
    "        count+=1\n",
    "print(count)"
   ]
  },
  {
   "cell_type": "code",
   "execution_count": 4,
   "id": "4dd41c25",
   "metadata": {
    "ExecuteTime": {
     "end_time": "2021-09-23T07:46:33.498259Z",
     "start_time": "2021-09-23T07:46:23.636984Z"
    }
   },
   "outputs": [
    {
     "name": "stdout",
     "output_type": "stream",
     "text": [
      "3\n",
      "1 10\n",
      "0 10\n",
      "10 10\n",
      "2\n"
     ]
    }
   ],
   "source": [
    "#Second Run"
   ]
  }
 ],
 "metadata": {
  "kernelspec": {
   "display_name": "Python 3",
   "language": "python",
   "name": "python3"
  },
  "language_info": {
   "codemirror_mode": {
    "name": "ipython",
    "version": 3
   },
   "file_extension": ".py",
   "mimetype": "text/x-python",
   "name": "python",
   "nbconvert_exporter": "python",
   "pygments_lexer": "ipython3",
   "version": "3.8.8"
  },
  "toc": {
   "base_numbering": 1,
   "nav_menu": {},
   "number_sections": true,
   "sideBar": true,
   "skip_h1_title": false,
   "title_cell": "Table of Contents",
   "title_sidebar": "Contents",
   "toc_cell": false,
   "toc_position": {},
   "toc_section_display": true,
   "toc_window_display": false
  }
 },
 "nbformat": 4,
 "nbformat_minor": 5
}
