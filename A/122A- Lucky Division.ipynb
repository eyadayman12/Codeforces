{
 "cells": [
  {
   "cell_type": "markdown",
   "id": "81f84164",
   "metadata": {},
   "source": [
    "# Codeforces Problem 122A- Lucky Division"
   ]
  },
  {
   "cell_type": "code",
   "execution_count": 2,
   "id": "41ed4866",
   "metadata": {
    "ExecuteTime": {
     "end_time": "2021-09-21T02:10:31.094583Z",
     "start_time": "2021-09-21T02:10:30.021366Z"
    }
   },
   "outputs": [
    {
     "name": "stdout",
     "output_type": "stream",
     "text": [
      "47\n",
      "YES\n"
     ]
    }
   ],
   "source": [
    "n = int(input())\n",
    "lucky_numbers = [4,7,44,47,74,444,447,474,477,777,774,744]\n",
    "almost_lucky = False\n",
    "\n",
    "for i in range(len(lucky_numbers)):\n",
    "    if n%lucky_numbers[i]==0:\n",
    "        almost_lucky = True\n",
    "        \n",
    "if almost_lucky:\n",
    "    print(\"YES\")\n",
    "else:\n",
    "    print(\"NO\")"
   ]
  },
  {
   "cell_type": "code",
   "execution_count": 3,
   "id": "7b6b3a3b",
   "metadata": {
    "ExecuteTime": {
     "end_time": "2021-09-21T02:10:45.164911Z",
     "start_time": "2021-09-21T02:10:44.103363Z"
    }
   },
   "outputs": [
    {
     "name": "stdout",
     "output_type": "stream",
     "text": [
      "16\n",
      "YES\n"
     ]
    }
   ],
   "source": [
    "#Second Run"
   ]
  },
  {
   "cell_type": "code",
   "execution_count": 4,
   "id": "55e98b59",
   "metadata": {
    "ExecuteTime": {
     "end_time": "2021-09-21T02:10:47.343106Z",
     "start_time": "2021-09-21T02:10:46.533871Z"
    }
   },
   "outputs": [
    {
     "name": "stdout",
     "output_type": "stream",
     "text": [
      "78\n",
      "NO\n"
     ]
    }
   ],
   "source": [
    "#Third Run"
   ]
  }
 ],
 "metadata": {
  "kernelspec": {
   "display_name": "Python 3",
   "language": "python",
   "name": "python3"
  },
  "language_info": {
   "codemirror_mode": {
    "name": "ipython",
    "version": 3
   },
   "file_extension": ".py",
   "mimetype": "text/x-python",
   "name": "python",
   "nbconvert_exporter": "python",
   "pygments_lexer": "ipython3",
   "version": "3.8.8"
  },
  "toc": {
   "base_numbering": 1,
   "nav_menu": {},
   "number_sections": true,
   "sideBar": true,
   "skip_h1_title": false,
   "title_cell": "Table of Contents",
   "title_sidebar": "Contents",
   "toc_cell": false,
   "toc_position": {},
   "toc_section_display": true,
   "toc_window_display": false
  }
 },
 "nbformat": 4,
 "nbformat_minor": 5
}
