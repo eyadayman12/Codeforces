{
 "cells": [
  {
   "cell_type": "markdown",
   "id": "73c3b42b",
   "metadata": {},
   "source": [
    "# Codeforces Problem 110A- Nearly Lucky Number"
   ]
  },
  {
   "cell_type": "code",
   "execution_count": 5,
   "id": "fc9184de",
   "metadata": {
    "ExecuteTime": {
     "end_time": "2021-09-21T01:42:35.554643Z",
     "start_time": "2021-09-21T01:42:33.034338Z"
    }
   },
   "outputs": [
    {
     "name": "stdout",
     "output_type": "stream",
     "text": [
      "40047\n",
      "NO\n"
     ]
    }
   ],
   "source": [
    "n = input()\n",
    "lucky_digits = ['4','7']\n",
    "nearly_lucky_number = 0\n",
    "for i in range(len(n)):\n",
    "    if n[i] in lucky_digits:\n",
    "        nearly_lucky_number+=1\n",
    "        \n",
    "if nearly_lucky_number == 4 or nearly_lucky_number == 7:\n",
    "    print('YES')\n",
    "else:\n",
    "    print('NO')"
   ]
  },
  {
   "cell_type": "code",
   "execution_count": 6,
   "id": "3b53c5b5",
   "metadata": {
    "ExecuteTime": {
     "end_time": "2021-09-21T01:44:28.152443Z",
     "start_time": "2021-09-21T01:44:22.941265Z"
    }
   },
   "outputs": [
    {
     "name": "stdout",
     "output_type": "stream",
     "text": [
      "7747774\n",
      "YES\n"
     ]
    }
   ],
   "source": [
    "#Second Run"
   ]
  },
  {
   "cell_type": "code",
   "execution_count": 7,
   "id": "f894dc24",
   "metadata": {
    "ExecuteTime": {
     "end_time": "2021-09-21T01:44:38.462507Z",
     "start_time": "2021-09-21T01:44:37.774924Z"
    }
   },
   "outputs": [
    {
     "name": "stdout",
     "output_type": "stream",
     "text": [
      "1000000000000000000\n",
      "NO\n"
     ]
    }
   ],
   "source": [
    "#Third Run"
   ]
  }
 ],
 "metadata": {
  "kernelspec": {
   "display_name": "Python 3",
   "language": "python",
   "name": "python3"
  },
  "language_info": {
   "codemirror_mode": {
    "name": "ipython",
    "version": 3
   },
   "file_extension": ".py",
   "mimetype": "text/x-python",
   "name": "python",
   "nbconvert_exporter": "python",
   "pygments_lexer": "ipython3",
   "version": "3.8.8"
  },
  "toc": {
   "base_numbering": 1,
   "nav_menu": {},
   "number_sections": true,
   "sideBar": true,
   "skip_h1_title": false,
   "title_cell": "Table of Contents",
   "title_sidebar": "Contents",
   "toc_cell": false,
   "toc_position": {},
   "toc_section_display": true,
   "toc_window_display": false
  }
 },
 "nbformat": 4,
 "nbformat_minor": 5
}
