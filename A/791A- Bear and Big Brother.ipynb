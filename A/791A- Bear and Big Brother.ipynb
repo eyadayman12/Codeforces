{
 "cells": [
  {
   "cell_type": "markdown",
   "id": "4c501218",
   "metadata": {},
   "source": [
    "# Codeforces Problem 791A- Bear and Big Brother"
   ]
  },
  {
   "cell_type": "code",
   "execution_count": 1,
   "id": "481ff107",
   "metadata": {
    "ExecuteTime": {
     "end_time": "2021-09-19T03:58:02.480945Z",
     "start_time": "2021-09-19T03:57:58.354828Z"
    }
   },
   "outputs": [
    {
     "name": "stdout",
     "output_type": "stream",
     "text": [
      "4 7\n",
      "2\n"
     ]
    }
   ],
   "source": [
    "a,b = map(int, input().split())\n",
    "years = 0\n",
    "\n",
    "while a <= b:\n",
    "    a*=3\n",
    "    b*=2\n",
    "    years+=1\n",
    "    \n",
    "print(years)"
   ]
  },
  {
   "cell_type": "code",
   "execution_count": 2,
   "id": "95fd1c8c",
   "metadata": {
    "ExecuteTime": {
     "end_time": "2021-09-19T03:58:15.923776Z",
     "start_time": "2021-09-19T03:58:14.259040Z"
    }
   },
   "outputs": [
    {
     "name": "stdout",
     "output_type": "stream",
     "text": [
      "4 9\n",
      "3\n"
     ]
    }
   ],
   "source": [
    "#Second Run"
   ]
  },
  {
   "cell_type": "code",
   "execution_count": 3,
   "id": "e945750f",
   "metadata": {
    "ExecuteTime": {
     "end_time": "2021-09-19T03:58:20.657844Z",
     "start_time": "2021-09-19T03:58:19.035388Z"
    }
   },
   "outputs": [
    {
     "name": "stdout",
     "output_type": "stream",
     "text": [
      "1 1\n",
      "1\n"
     ]
    }
   ],
   "source": [
    "#Third Run"
   ]
  },
  {
   "cell_type": "code",
   "execution_count": null,
   "id": "8fe9e436",
   "metadata": {},
   "outputs": [],
   "source": []
  }
 ],
 "metadata": {
  "kernelspec": {
   "display_name": "Python 3",
   "language": "python",
   "name": "python3"
  },
  "language_info": {
   "codemirror_mode": {
    "name": "ipython",
    "version": 3
   },
   "file_extension": ".py",
   "mimetype": "text/x-python",
   "name": "python",
   "nbconvert_exporter": "python",
   "pygments_lexer": "ipython3",
   "version": "3.8.8"
  },
  "toc": {
   "base_numbering": 1,
   "nav_menu": {},
   "number_sections": true,
   "sideBar": true,
   "skip_h1_title": false,
   "title_cell": "Table of Contents",
   "title_sidebar": "Contents",
   "toc_cell": false,
   "toc_position": {},
   "toc_section_display": true,
   "toc_window_display": false
  }
 },
 "nbformat": 4,
 "nbformat_minor": 5
}
