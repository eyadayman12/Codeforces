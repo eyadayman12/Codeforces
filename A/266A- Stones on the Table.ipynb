{
 "cells": [
  {
   "cell_type": "markdown",
   "id": "d3e239bb",
   "metadata": {},
   "source": [
    "# Codeforces Problem 266A- Stones on the Table\n"
   ]
  },
  {
   "cell_type": "code",
   "execution_count": 5,
   "id": "bab8fe85",
   "metadata": {
    "ExecuteTime": {
     "end_time": "2021-09-16T13:44:35.722866Z",
     "start_time": "2021-09-16T13:44:33.181067Z"
    }
   },
   "outputs": [
    {
     "name": "stdout",
     "output_type": "stream",
     "text": [
      "3\n",
      "RRG\n",
      "1\n"
     ]
    }
   ],
   "source": [
    "n = int(input())\n",
    "color_of_the_stones = input().upper()\n",
    "nedeed_stones = 0\n",
    "for stone in range(n-1):\n",
    "    if color_of_the_stones[stone] == color_of_the_stones[stone+1]:\n",
    "        nedeed_stones += 1\n",
    "print(nedeed_stones)"
   ]
  },
  {
   "cell_type": "code",
   "execution_count": 6,
   "id": "a34f4222",
   "metadata": {
    "ExecuteTime": {
     "end_time": "2021-09-16T13:44:51.615850Z",
     "start_time": "2021-09-16T13:44:48.742392Z"
    }
   },
   "outputs": [
    {
     "name": "stdout",
     "output_type": "stream",
     "text": [
      "5\n",
      "RRRRR\n",
      "4\n"
     ]
    }
   ],
   "source": [
    "#Second Run"
   ]
  },
  {
   "cell_type": "code",
   "execution_count": 7,
   "id": "5471f4de",
   "metadata": {
    "ExecuteTime": {
     "end_time": "2021-09-16T13:45:08.489552Z",
     "start_time": "2021-09-16T13:45:02.563435Z"
    }
   },
   "outputs": [
    {
     "name": "stdout",
     "output_type": "stream",
     "text": [
      "4\n",
      "BRBG\n",
      "0\n"
     ]
    }
   ],
   "source": [
    "#Third Run"
   ]
  }
 ],
 "metadata": {
  "kernelspec": {
   "display_name": "Python 3",
   "language": "python",
   "name": "python3"
  },
  "language_info": {
   "codemirror_mode": {
    "name": "ipython",
    "version": 3
   },
   "file_extension": ".py",
   "mimetype": "text/x-python",
   "name": "python",
   "nbconvert_exporter": "python",
   "pygments_lexer": "ipython3",
   "version": "3.8.8"
  },
  "toc": {
   "base_numbering": 1,
   "nav_menu": {},
   "number_sections": true,
   "sideBar": true,
   "skip_h1_title": false,
   "title_cell": "Table of Contents",
   "title_sidebar": "Contents",
   "toc_cell": false,
   "toc_position": {},
   "toc_section_display": true,
   "toc_window_display": false
  }
 },
 "nbformat": 4,
 "nbformat_minor": 5
}
