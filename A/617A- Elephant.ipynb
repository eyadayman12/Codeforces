{
 "cells": [
  {
   "cell_type": "markdown",
   "id": "0c07eed8",
   "metadata": {},
   "source": [
    "# Codeforces Problem 617A- Elephant"
   ]
  },
  {
   "cell_type": "code",
   "execution_count": 1,
   "id": "2891c9db",
   "metadata": {
    "ExecuteTime": {
     "end_time": "2021-09-19T04:23:43.117427Z",
     "start_time": "2021-09-19T04:23:39.681807Z"
    }
   },
   "outputs": [
    {
     "name": "stdout",
     "output_type": "stream",
     "text": [
      "5\n",
      "1\n"
     ]
    }
   ],
   "source": [
    "x = int(input())\n",
    "num_of_steps = 1\n",
    "elephant_one_step = 5\n",
    "for i in range(1,x+1):\n",
    "    if i > elephant_one_step:\n",
    "        num_of_steps += 1\n",
    "        elephant_one_step += 5\n",
    "    \n",
    "print(num_of_steps)"
   ]
  },
  {
   "cell_type": "code",
   "execution_count": 2,
   "id": "2b6c3fc8",
   "metadata": {
    "ExecuteTime": {
     "end_time": "2021-09-19T04:24:00.084398Z",
     "start_time": "2021-09-19T04:23:58.491934Z"
    }
   },
   "outputs": [
    {
     "name": "stdout",
     "output_type": "stream",
     "text": [
      "12\n",
      "3\n"
     ]
    }
   ],
   "source": [
    "#Second Run"
   ]
  }
 ],
 "metadata": {
  "kernelspec": {
   "display_name": "Python 3",
   "language": "python",
   "name": "python3"
  },
  "language_info": {
   "codemirror_mode": {
    "name": "ipython",
    "version": 3
   },
   "file_extension": ".py",
   "mimetype": "text/x-python",
   "name": "python",
   "nbconvert_exporter": "python",
   "pygments_lexer": "ipython3",
   "version": "3.8.8"
  },
  "toc": {
   "base_numbering": 1,
   "nav_menu": {},
   "number_sections": true,
   "sideBar": true,
   "skip_h1_title": false,
   "title_cell": "Table of Contents",
   "title_sidebar": "Contents",
   "toc_cell": false,
   "toc_position": {},
   "toc_section_display": true,
   "toc_window_display": false
  }
 },
 "nbformat": 4,
 "nbformat_minor": 5
}
