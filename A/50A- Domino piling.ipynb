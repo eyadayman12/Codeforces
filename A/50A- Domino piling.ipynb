{
 "cells": [
  {
   "cell_type": "markdown",
   "id": "c1b65dcb",
   "metadata": {},
   "source": [
    "# Codeforces Problem 50A- Domino piling"
   ]
  },
  {
   "cell_type": "code",
   "execution_count": 2,
   "id": "8b4fab8e",
   "metadata": {
    "ExecuteTime": {
     "end_time": "2021-09-13T12:49:47.533695Z",
     "start_time": "2021-09-13T12:49:45.633369Z"
    }
   },
   "outputs": [
    {
     "name": "stdout",
     "output_type": "stream",
     "text": [
      "2 4\n",
      "4\n"
     ]
    }
   ],
   "source": [
    "m,n = map(int, input().split())\n",
    "if m == 1 and n == 1:\n",
    "    print(0)\n",
    "    \n",
    "else:\n",
    "    maximal_number_of_dominoes = int(m*n)  // 2\n",
    "    print(maximal_number_of_dominoes)"
   ]
  },
  {
   "cell_type": "code",
   "execution_count": 3,
   "id": "3a50c085",
   "metadata": {
    "ExecuteTime": {
     "end_time": "2021-09-13T12:50:11.397820Z",
     "start_time": "2021-09-13T12:50:08.682560Z"
    }
   },
   "outputs": [
    {
     "name": "stdout",
     "output_type": "stream",
     "text": [
      "3 3\n",
      "4\n"
     ]
    }
   ],
   "source": [
    "#second Run"
   ]
  },
  {
   "cell_type": "code",
   "execution_count": null,
   "id": "bcdbb3cb",
   "metadata": {},
   "outputs": [],
   "source": []
  }
 ],
 "metadata": {
  "kernelspec": {
   "display_name": "Python 3",
   "language": "python",
   "name": "python3"
  },
  "language_info": {
   "codemirror_mode": {
    "name": "ipython",
    "version": 3
   },
   "file_extension": ".py",
   "mimetype": "text/x-python",
   "name": "python",
   "nbconvert_exporter": "python",
   "pygments_lexer": "ipython3",
   "version": "3.8.8"
  },
  "toc": {
   "base_numbering": 1,
   "nav_menu": {},
   "number_sections": true,
   "sideBar": true,
   "skip_h1_title": false,
   "title_cell": "Table of Contents",
   "title_sidebar": "Contents",
   "toc_cell": false,
   "toc_position": {},
   "toc_section_display": true,
   "toc_window_display": false
  }
 },
 "nbformat": 4,
 "nbformat_minor": 5
}
