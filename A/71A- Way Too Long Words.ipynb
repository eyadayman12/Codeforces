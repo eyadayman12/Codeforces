{
 "cells": [
  {
   "cell_type": "markdown",
   "id": "69ee9198",
   "metadata": {},
   "source": [
    "# Codeforces Problem 71A- Way Too Long Words"
   ]
  },
  {
   "cell_type": "code",
   "execution_count": 2,
   "id": "0dd32c19",
   "metadata": {
    "ExecuteTime": {
     "end_time": "2021-09-12T14:44:12.854744Z",
     "start_time": "2021-09-12T14:43:53.016050Z"
    }
   },
   "outputs": [
    {
     "name": "stdout",
     "output_type": "stream",
     "text": [
      "4\n",
      "word\n",
      "localization\n",
      "internationalization\n",
      "pneumonoultramicroscopicsilicovolcanoconiosis\n",
      "word\n",
      "l10n\n",
      "i18n\n",
      "p43s\n"
     ]
    }
   ],
   "source": [
    "n = int(input())\n",
    "#List to store the words (abbreviated or not) and print them later\n",
    "myList = []\n",
    "while n > 0:\n",
    "    word = input()\n",
    "    if len(word) > 10:\n",
    "        #We shorten a word containing more than 10 letters\n",
    "        abbreviation = word[0] + str(len(word) - 2) + word[-1]\n",
    "        #Append the abbreviated word to the list\n",
    "        myList.append(abbreviation)\n",
    "    else:\n",
    "        #Append the word to list that containing less than or equal 10 letters\n",
    "        myList.append(word)\n",
    "        \n",
    "    n-=1\n",
    "    \n",
    "#Print all the words \n",
    "for word in myList:\n",
    "    print(word)\n",
    "    \n",
    "        "
   ]
  },
  {
   "cell_type": "code",
   "execution_count": null,
   "id": "47073f66",
   "metadata": {},
   "outputs": [],
   "source": []
  }
 ],
 "metadata": {
  "kernelspec": {
   "display_name": "Python 3",
   "language": "python",
   "name": "python3"
  },
  "language_info": {
   "codemirror_mode": {
    "name": "ipython",
    "version": 3
   },
   "file_extension": ".py",
   "mimetype": "text/x-python",
   "name": "python",
   "nbconvert_exporter": "python",
   "pygments_lexer": "ipython3",
   "version": "3.8.8"
  },
  "toc": {
   "base_numbering": 1,
   "nav_menu": {},
   "number_sections": true,
   "sideBar": true,
   "skip_h1_title": false,
   "title_cell": "Table of Contents",
   "title_sidebar": "Contents",
   "toc_cell": false,
   "toc_position": {},
   "toc_section_display": true,
   "toc_window_display": false
  }
 },
 "nbformat": 4,
 "nbformat_minor": 5
}
