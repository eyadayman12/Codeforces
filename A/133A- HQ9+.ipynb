{
 "cells": [
  {
   "cell_type": "markdown",
   "id": "0e17d037",
   "metadata": {},
   "source": [
    "# Codeforces Problem 133A- HQ9+"
   ]
  },
  {
   "cell_type": "code",
   "execution_count": 3,
   "id": "4779466a",
   "metadata": {
    "ExecuteTime": {
     "end_time": "2021-09-23T08:14:36.603954Z",
     "start_time": "2021-09-23T08:14:31.224260Z"
    }
   },
   "outputs": [
    {
     "name": "stdout",
     "output_type": "stream",
     "text": [
      "Hi!\n",
      "YES\n"
     ]
    }
   ],
   "source": [
    "s = \"HQ9\"\n",
    "p = input()\n",
    "out = \"\"\n",
    "for i in range(len(p)):\n",
    "    if p[i] in s:\n",
    "        out = \"YES\"\n",
    "        break\n",
    "    else:\n",
    "        out =\"NO\"\n",
    "print(out)"
   ]
  },
  {
   "cell_type": "code",
   "execution_count": 4,
   "id": "246e2e5c",
   "metadata": {
    "ExecuteTime": {
     "end_time": "2021-09-23T08:14:45.990085Z",
     "start_time": "2021-09-23T08:14:42.510476Z"
    }
   },
   "outputs": [
    {
     "name": "stdout",
     "output_type": "stream",
     "text": [
      "Codeforces\n",
      "NO\n"
     ]
    }
   ],
   "source": [
    "#Second Run"
   ]
  }
 ],
 "metadata": {
  "kernelspec": {
   "display_name": "Python 3",
   "language": "python",
   "name": "python3"
  },
  "language_info": {
   "codemirror_mode": {
    "name": "ipython",
    "version": 3
   },
   "file_extension": ".py",
   "mimetype": "text/x-python",
   "name": "python",
   "nbconvert_exporter": "python",
   "pygments_lexer": "ipython3",
   "version": "3.8.8"
  },
  "toc": {
   "base_numbering": 1,
   "nav_menu": {},
   "number_sections": true,
   "sideBar": true,
   "skip_h1_title": false,
   "title_cell": "Table of Contents",
   "title_sidebar": "Contents",
   "toc_cell": false,
   "toc_position": {},
   "toc_section_display": true,
   "toc_window_display": false
  }
 },
 "nbformat": 4,
 "nbformat_minor": 5
}
