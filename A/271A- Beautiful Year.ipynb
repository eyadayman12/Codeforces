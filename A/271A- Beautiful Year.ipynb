{
 "cells": [
  {
   "cell_type": "markdown",
   "id": "1c439ad1",
   "metadata": {},
   "source": [
    "# Codeforces Problem 271A- Beautiful Year"
   ]
  },
  {
   "cell_type": "code",
   "execution_count": 9,
   "id": "7212fbce",
   "metadata": {
    "ExecuteTime": {
     "end_time": "2021-09-22T16:15:02.523287Z",
     "start_time": "2021-09-22T16:14:58.094481Z"
    }
   },
   "outputs": [
    {
     "name": "stdout",
     "output_type": "stream",
     "text": [
      "1987\n",
      "2013\n"
     ]
    }
   ],
   "source": [
    "y = int(input())\n",
    "\n",
    "while True:\n",
    "    y+=1\n",
    "    first_year_digit = y // 1000\n",
    "    second_year_digit = (y // 100) % 10\n",
    "    third_year_digit = (y // 10) % 10\n",
    "    fourth_year_digit = y % 10\n",
    "    if (first_year_digit != second_year_digit and first_year_digit != third_year_digit and first_year_digit != fourth_year_digit and second_year_digit != third_year_digit and second_year_digit != fourth_year_digit and third_year_digit != fourth_year_digit):\n",
    "        break\n",
    "        \n",
    "        \n",
    "print(y)"
   ]
  },
  {
   "cell_type": "code",
   "execution_count": 10,
   "id": "d6094106",
   "metadata": {
    "ExecuteTime": {
     "end_time": "2021-09-22T16:15:16.359467Z",
     "start_time": "2021-09-22T16:15:14.944987Z"
    }
   },
   "outputs": [
    {
     "name": "stdout",
     "output_type": "stream",
     "text": [
      "2013\n",
      "2014\n"
     ]
    }
   ],
   "source": [
    "#Second Run"
   ]
  }
 ],
 "metadata": {
  "kernelspec": {
   "display_name": "Python 3",
   "language": "python",
   "name": "python3"
  },
  "language_info": {
   "codemirror_mode": {
    "name": "ipython",
    "version": 3
   },
   "file_extension": ".py",
   "mimetype": "text/x-python",
   "name": "python",
   "nbconvert_exporter": "python",
   "pygments_lexer": "ipython3",
   "version": "3.8.8"
  },
  "toc": {
   "base_numbering": 1,
   "nav_menu": {},
   "number_sections": true,
   "sideBar": true,
   "skip_h1_title": false,
   "title_cell": "Table of Contents",
   "title_sidebar": "Contents",
   "toc_cell": false,
   "toc_position": {},
   "toc_section_display": true,
   "toc_window_display": false
  }
 },
 "nbformat": 4,
 "nbformat_minor": 5
}
