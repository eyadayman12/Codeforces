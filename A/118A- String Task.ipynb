{
 "cells": [
  {
   "cell_type": "markdown",
   "id": "4f0cea43",
   "metadata": {},
   "source": [
    "# Codeforces-Problem 118A- String Task"
   ]
  },
  {
   "cell_type": "code",
   "execution_count": 21,
   "id": "9e3fdc3b",
   "metadata": {
    "ExecuteTime": {
     "end_time": "2021-09-15T09:04:14.007773Z",
     "start_time": "2021-09-15T09:04:11.732752Z"
    }
   },
   "outputs": [
    {
     "name": "stdout",
     "output_type": "stream",
     "text": [
      "tour\n",
      ".t.r\n"
     ]
    }
   ],
   "source": [
    "vowels = ['A','O','Y','E','U','I']\n",
    "petya_string = input().upper()\n",
    "dot_string = ''\n",
    "\n",
    "for letter in range(len(petya_string)):\n",
    "    if petya_string[letter] not in vowels:\n",
    "        dot_string += '.'\n",
    "        dot_string += petya_string[letter]\n",
    "        \n",
    "print(dot_string.lower())"
   ]
  },
  {
   "cell_type": "code",
   "execution_count": 22,
   "id": "7ea68159",
   "metadata": {
    "ExecuteTime": {
     "end_time": "2021-09-15T09:04:29.981808Z",
     "start_time": "2021-09-15T09:04:22.158813Z"
    }
   },
   "outputs": [
    {
     "name": "stdout",
     "output_type": "stream",
     "text": [
      "Codeforces\n",
      ".c.d.f.r.c.s\n"
     ]
    }
   ],
   "source": [
    "#Second Run"
   ]
  },
  {
   "cell_type": "code",
   "execution_count": 1,
   "id": "e3732e56",
   "metadata": {
    "ExecuteTime": {
     "end_time": "2021-09-15T09:08:54.051148Z",
     "start_time": "2021-09-15T09:08:46.415555Z"
    }
   },
   "outputs": [
    {
     "name": "stdout",
     "output_type": "stream",
     "text": [
      "aBAcAba\n",
      ".b.c.b\n"
     ]
    }
   ],
   "source": [
    "#Third Run"
   ]
  }
 ],
 "metadata": {
  "kernelspec": {
   "display_name": "Python 3",
   "language": "python",
   "name": "python3"
  },
  "language_info": {
   "codemirror_mode": {
    "name": "ipython",
    "version": 3
   },
   "file_extension": ".py",
   "mimetype": "text/x-python",
   "name": "python",
   "nbconvert_exporter": "python",
   "pygments_lexer": "ipython3",
   "version": "3.8.8"
  },
  "toc": {
   "base_numbering": 1,
   "nav_menu": {},
   "number_sections": true,
   "sideBar": true,
   "skip_h1_title": false,
   "title_cell": "Table of Contents",
   "title_sidebar": "Contents",
   "toc_cell": false,
   "toc_position": {},
   "toc_section_display": true,
   "toc_window_display": false
  }
 },
 "nbformat": 4,
 "nbformat_minor": 5
}
