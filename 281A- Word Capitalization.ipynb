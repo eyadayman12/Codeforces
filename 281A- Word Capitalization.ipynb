{
 "cells": [
  {
   "cell_type": "markdown",
   "id": "92453421",
   "metadata": {},
   "source": [
    "# Codeforces Problem 281A- Word Capitalization"
   ]
  },
  {
   "cell_type": "code",
   "execution_count": 2,
   "id": "2f22f70a",
   "metadata": {
    "ExecuteTime": {
     "end_time": "2021-09-15T09:56:37.154518Z",
     "start_time": "2021-09-15T09:56:35.964627Z"
    }
   },
   "outputs": [
    {
     "name": "stdout",
     "output_type": "stream",
     "text": [
      "ApPLe\n",
      "ApPLe\n"
     ]
    }
   ],
   "source": [
    "myString = input()\n",
    "print(myString[0].upper() + myString[1:])"
   ]
  },
  {
   "cell_type": "code",
   "execution_count": 3,
   "id": "9c1f85eb",
   "metadata": {
    "ExecuteTime": {
     "end_time": "2021-09-15T09:56:50.640876Z",
     "start_time": "2021-09-15T09:56:44.338309Z"
    }
   },
   "outputs": [
    {
     "name": "stdout",
     "output_type": "stream",
     "text": [
      "konjac\n",
      "Konjac\n"
     ]
    }
   ],
   "source": [
    "#Second Run"
   ]
  }
 ],
 "metadata": {
  "kernelspec": {
   "display_name": "Python 3",
   "language": "python",
   "name": "python3"
  },
  "language_info": {
   "codemirror_mode": {
    "name": "ipython",
    "version": 3
   },
   "file_extension": ".py",
   "mimetype": "text/x-python",
   "name": "python",
   "nbconvert_exporter": "python",
   "pygments_lexer": "ipython3",
   "version": "3.8.8"
  },
  "toc": {
   "base_numbering": 1,
   "nav_menu": {},
   "number_sections": true,
   "sideBar": true,
   "skip_h1_title": false,
   "title_cell": "Table of Contents",
   "title_sidebar": "Contents",
   "toc_cell": false,
   "toc_position": {},
   "toc_section_display": true,
   "toc_window_display": false
  }
 },
 "nbformat": 4,
 "nbformat_minor": 5
}
