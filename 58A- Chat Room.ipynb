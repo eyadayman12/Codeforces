{
 "cells": [
  {
   "cell_type": "markdown",
   "id": "26a974b3",
   "metadata": {},
   "source": [
    "# Codeforces Problem 58A- Chat Room"
   ]
  },
  {
   "cell_type": "code",
   "execution_count": 3,
   "id": "e8262b76",
   "metadata": {
    "ExecuteTime": {
     "end_time": "2021-09-20T08:05:41.912300Z",
     "start_time": "2021-09-20T08:05:40.823322Z"
    }
   },
   "outputs": [
    {
     "name": "stdout",
     "output_type": "stream",
     "text": [
      "ahhellllloou\n",
      "YES\n"
     ]
    }
   ],
   "source": [
    "import re\n",
    "\n",
    "s = input()\n",
    "\n",
    "if re.match(r\".*h.*e.*l.*l.*o\", s):\n",
    "    print(\"YES\")\n",
    "else:\n",
    "    print(\"NO\")"
   ]
  },
  {
   "cell_type": "code",
   "execution_count": 4,
   "id": "d93d43ab",
   "metadata": {
    "ExecuteTime": {
     "end_time": "2021-09-20T08:05:56.753270Z",
     "start_time": "2021-09-20T08:05:51.869074Z"
    }
   },
   "outputs": [
    {
     "name": "stdout",
     "output_type": "stream",
     "text": [
      "hlelo\n",
      "NO\n"
     ]
    }
   ],
   "source": [
    "#Se"
   ]
  },
  {
   "cell_type": "code",
   "execution_count": null,
   "id": "484a1504",
   "metadata": {},
   "outputs": [],
   "source": []
  }
 ],
 "metadata": {
  "kernelspec": {
   "display_name": "Python 3",
   "language": "python",
   "name": "python3"
  },
  "language_info": {
   "codemirror_mode": {
    "name": "ipython",
    "version": 3
   },
   "file_extension": ".py",
   "mimetype": "text/x-python",
   "name": "python",
   "nbconvert_exporter": "python",
   "pygments_lexer": "ipython3",
   "version": "3.8.8"
  },
  "toc": {
   "base_numbering": 1,
   "nav_menu": {},
   "number_sections": true,
   "sideBar": true,
   "skip_h1_title": false,
   "title_cell": "Table of Contents",
   "title_sidebar": "Contents",
   "toc_cell": false,
   "toc_position": {},
   "toc_section_display": true,
   "toc_window_display": false
  }
 },
 "nbformat": 4,
 "nbformat_minor": 5
}
