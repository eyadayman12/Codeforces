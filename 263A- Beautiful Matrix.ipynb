{
 "cells": [
  {
   "cell_type": "markdown",
   "id": "55b032c4",
   "metadata": {},
   "source": [
    "# Codeforces Problem 263A- Beautiful Matrix"
   ]
  },
  {
   "cell_type": "code",
   "execution_count": 1,
   "id": "6a430ddf",
   "metadata": {
    "ExecuteTime": {
     "end_time": "2021-09-13T23:11:29.256121Z",
     "start_time": "2021-09-13T23:11:03.999415Z"
    }
   },
   "outputs": [
    {
     "name": "stdout",
     "output_type": "stream",
     "text": [
      "0 0 0 0 0\n",
      "0 0 0 0 1\n",
      "0 0 0 0 0\n",
      "0 0 0 0 0\n",
      "0 0 0 0 0\n",
      "3\n"
     ]
    }
   ],
   "source": [
    "for i in range(5):\n",
    "    #filling our matrix\n",
    "    matrix = [int(x) for x in input().split()]\n",
    "    for j in range(5):\n",
    "        if matrix[j] == 1:\n",
    "            #A calculation of how many moves our matrix need to be a Beautiful Matrix\n",
    "            beautiful_matrix_moves = abs((2-i)) + abs((2-j))\n",
    "            \n",
    "print(beautiful_matrix_moves)"
   ]
  },
  {
   "cell_type": "code",
   "execution_count": 2,
   "id": "c76e93c6",
   "metadata": {
    "ExecuteTime": {
     "end_time": "2021-09-13T23:11:57.548470Z",
     "start_time": "2021-09-13T23:11:44.589228Z"
    }
   },
   "outputs": [
    {
     "name": "stdout",
     "output_type": "stream",
     "text": [
      "0 0 0 0 0\n",
      "0 0 0 0 0\n",
      "0 1 0 0 0\n",
      "0 0 0 0 0\n",
      "0 0 0 0 0\n",
      "1\n"
     ]
    }
   ],
   "source": [
    "#Second Run"
   ]
  }
 ],
 "metadata": {
  "kernelspec": {
   "display_name": "Python 3",
   "language": "python",
   "name": "python3"
  },
  "language_info": {
   "codemirror_mode": {
    "name": "ipython",
    "version": 3
   },
   "file_extension": ".py",
   "mimetype": "text/x-python",
   "name": "python",
   "nbconvert_exporter": "python",
   "pygments_lexer": "ipython3",
   "version": "3.8.8"
  },
  "toc": {
   "base_numbering": 1,
   "nav_menu": {},
   "number_sections": true,
   "sideBar": true,
   "skip_h1_title": false,
   "title_cell": "Table of Contents",
   "title_sidebar": "Contents",
   "toc_cell": false,
   "toc_position": {},
   "toc_section_display": true,
   "toc_window_display": false
  }
 },
 "nbformat": 4,
 "nbformat_minor": 5
}
