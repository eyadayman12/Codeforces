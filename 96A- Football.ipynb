{
 "cells": [
  {
   "cell_type": "markdown",
   "id": "dfa26c18",
   "metadata": {},
   "source": [
    "# Codeforces Problem 96A- Football"
   ]
  },
  {
   "cell_type": "code",
   "execution_count": 3,
   "id": "a2315faa",
   "metadata": {
    "ExecuteTime": {
     "end_time": "2021-09-16T14:41:20.399879Z",
     "start_time": "2021-09-16T14:41:19.485248Z"
    }
   },
   "outputs": [
    {
     "name": "stdout",
     "output_type": "stream",
     "text": [
      "001001\n",
      "NO\n"
     ]
    }
   ],
   "source": [
    "football_teams = input()\n",
    "p = ''\n",
    "\n",
    "for player in range(len(football_teams)):\n",
    "    if football_teams.count('0000000') or football_teams.count('1111111'):\n",
    "        p = 'YES'\n",
    "    else:\n",
    "        p = 'NO'\n",
    "        \n",
    "print(p)\n",
    "        "
   ]
  },
  {
   "cell_type": "code",
   "execution_count": 4,
   "id": "c459e7b1",
   "metadata": {
    "ExecuteTime": {
     "end_time": "2021-09-16T14:42:54.568730Z",
     "start_time": "2021-09-16T14:42:43.222180Z"
    }
   },
   "outputs": [
    {
     "name": "stdout",
     "output_type": "stream",
     "text": [
      "1000000001\n",
      "YES\n"
     ]
    }
   ],
   "source": [
    "#Another Solution\n",
    "s = input()\n",
    "count1 = 1\n",
    "count2 = 1\n",
    "for i in range(0, len(s) - 1):\n",
    "    if s[i] == '1' and s[i+1] == '1':\n",
    "        count1+=1\n",
    "    elif s[i] == '0' and s[i+1] == '0':\n",
    "        count2+=1\n",
    "    if count1 == 7 or count2 == 7:\n",
    "        break\n",
    "    if s[i] != s[i+1]:\n",
    "        count1=1\n",
    "        count2=1\n",
    "\n",
    "if count1 == 7 or count2 == 7:\n",
    "    print(\"YES\")\n",
    "else:\n",
    "    print(\"NO\")"
   ]
  }
 ],
 "metadata": {
  "kernelspec": {
   "display_name": "Python 3",
   "language": "python",
   "name": "python3"
  },
  "language_info": {
   "codemirror_mode": {
    "name": "ipython",
    "version": 3
   },
   "file_extension": ".py",
   "mimetype": "text/x-python",
   "name": "python",
   "nbconvert_exporter": "python",
   "pygments_lexer": "ipython3",
   "version": "3.8.8"
  },
  "toc": {
   "base_numbering": 1,
   "nav_menu": {},
   "number_sections": true,
   "sideBar": true,
   "skip_h1_title": false,
   "title_cell": "Table of Contents",
   "title_sidebar": "Contents",
   "toc_cell": false,
   "toc_position": {},
   "toc_section_display": true,
   "toc_window_display": false
  }
 },
 "nbformat": 4,
 "nbformat_minor": 5
}
