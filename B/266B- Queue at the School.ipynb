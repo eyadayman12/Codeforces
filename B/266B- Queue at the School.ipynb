{
 "cells": [
  {
   "cell_type": "markdown",
   "id": "46f76889",
   "metadata": {},
   "source": [
    "# Codeforces Problem 266B- Queue at the School"
   ]
  },
  {
   "cell_type": "code",
   "execution_count": 6,
   "id": "2f4ca737",
   "metadata": {
    "ExecuteTime": {
     "end_time": "2021-09-20T16:56:12.466872Z",
     "start_time": "2021-09-20T16:55:59.895422Z"
    }
   },
   "outputs": [
    {
     "name": "stdout",
     "output_type": "stream",
     "text": [
      "5 1\n",
      "BGGBG\n",
      "GBGGB\n"
     ]
    }
   ],
   "source": [
    "n,t =map(int, input().split())\n",
    "a = input()\n",
    "temp = list(a)\n",
    "queue = \"\"\n",
    "while t != 0:\n",
    "    i = 0\n",
    "    while i< len(temp) - 1:\n",
    "        if temp[i] == 'B' and temp[i+1] == 'G':\n",
    "            temp[i],temp[i+1]=temp[i+1],temp[i]\n",
    "            i+=1\n",
    "        i+=1\n",
    "    t-=1\n",
    "    \n",
    "for i in range(len(temp)):\n",
    "    queue+=temp[i]\n",
    "    \n",
    "print(queue)"
   ]
  },
  {
   "cell_type": "code",
   "execution_count": 9,
   "id": "3eeae59e",
   "metadata": {
    "ExecuteTime": {
     "end_time": "2021-09-20T16:58:42.125240Z",
     "start_time": "2021-09-20T16:58:35.156990Z"
    }
   },
   "outputs": [
    {
     "name": "stdout",
     "output_type": "stream",
     "text": [
      "5 2\n",
      "BGGBG\n",
      "GGBGB\n"
     ]
    }
   ],
   "source": [
    "#Second Run"
   ]
  },
  {
   "cell_type": "code",
   "execution_count": 8,
   "id": "33859d55",
   "metadata": {
    "ExecuteTime": {
     "end_time": "2021-09-20T16:57:01.082309Z",
     "start_time": "2021-09-20T16:56:55.069728Z"
    }
   },
   "outputs": [
    {
     "name": "stdout",
     "output_type": "stream",
     "text": [
      "4 1\n",
      "GGGB\n",
      "GGGB\n"
     ]
    }
   ],
   "source": [
    "#Third Run"
   ]
  }
 ],
 "metadata": {
  "kernelspec": {
   "display_name": "Python 3",
   "language": "python",
   "name": "python3"
  },
  "language_info": {
   "codemirror_mode": {
    "name": "ipython",
    "version": 3
   },
   "file_extension": ".py",
   "mimetype": "text/x-python",
   "name": "python",
   "nbconvert_exporter": "python",
   "pygments_lexer": "ipython3",
   "version": "3.8.8"
  },
  "toc": {
   "base_numbering": 1,
   "nav_menu": {},
   "number_sections": true,
   "sideBar": true,
   "skip_h1_title": false,
   "title_cell": "Table of Contents",
   "title_sidebar": "Contents",
   "toc_cell": false,
   "toc_position": {},
   "toc_section_display": true,
   "toc_window_display": false
  }
 },
 "nbformat": 4,
 "nbformat_minor": 5
}
