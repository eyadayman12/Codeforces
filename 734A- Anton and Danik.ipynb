{
 "cells": [
  {
   "cell_type": "markdown",
   "id": "aa92af56",
   "metadata": {},
   "source": [
    "# Codeforces Problem 734A- Anton and Danik"
   ]
  },
  {
   "cell_type": "code",
   "execution_count": 6,
   "id": "49f1169e",
   "metadata": {
    "ExecuteTime": {
     "end_time": "2021-09-22T10:52:16.275937Z",
     "start_time": "2021-09-22T10:52:14.845765Z"
    }
   },
   "outputs": [
    {
     "name": "stdout",
     "output_type": "stream",
     "text": [
      "6\n",
      "ADAAAA\n",
      "Anton\n"
     ]
    }
   ],
   "source": [
    "n = int(input())\n",
    "s = input().upper()\n",
    "anton = s.count(\"A\")\n",
    "danik = s.count(\"D\")\n",
    "\n",
    "if anton > danik:\n",
    "    print(\"Anton\")\n",
    "elif danik > anton:\n",
    "    print(\"Danik\")\n",
    "else:\n",
    "    print(\"Friendship\")\n",
    "    "
   ]
  },
  {
   "cell_type": "code",
   "execution_count": null,
   "id": "9ccdf5dc",
   "metadata": {},
   "outputs": [],
   "source": []
  }
 ],
 "metadata": {
  "kernelspec": {
   "display_name": "Python 3",
   "language": "python",
   "name": "python3"
  },
  "language_info": {
   "codemirror_mode": {
    "name": "ipython",
    "version": 3
   },
   "file_extension": ".py",
   "mimetype": "text/x-python",
   "name": "python",
   "nbconvert_exporter": "python",
   "pygments_lexer": "ipython3",
   "version": "3.8.8"
  },
  "toc": {
   "base_numbering": 1,
   "nav_menu": {},
   "number_sections": true,
   "sideBar": true,
   "skip_h1_title": false,
   "title_cell": "Table of Contents",
   "title_sidebar": "Contents",
   "toc_cell": false,
   "toc_position": {},
   "toc_section_display": true,
   "toc_window_display": false
  }
 },
 "nbformat": 4,
 "nbformat_minor": 5
}
