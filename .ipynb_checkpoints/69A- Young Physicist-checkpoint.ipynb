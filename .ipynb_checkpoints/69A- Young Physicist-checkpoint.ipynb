{
 "cells": [
  {
   "cell_type": "markdown",
   "id": "5dcf5218",
   "metadata": {},
   "source": [
    "# Codeforces Problem 69A- Young Physicist"
   ]
  },
  {
   "cell_type": "code",
   "execution_count": 1,
   "id": "f338f954",
   "metadata": {
    "ExecuteTime": {
     "end_time": "2021-09-18T13:14:54.734511Z",
     "start_time": "2021-09-18T13:14:34.641962Z"
    }
   },
   "outputs": [
    {
     "name": "stdout",
     "output_type": "stream",
     "text": [
      "3\n",
      "4 1 7\n",
      "-2 4 1\n",
      "1 -5 -3\n",
      "NO\n"
     ]
    }
   ],
   "source": [
    "n = int(input())\n",
    "sum1 = sum2 = sum3 = 0\n",
    "\n",
    "for i in range(n):\n",
    "    x,y,z = map(int, input().split())\n",
    "    sum1 += x\n",
    "    sum2 += y\n",
    "    sum3 += z\n",
    "    \n",
    "if sum1 == 0 and sum2 == 0 and sum3 == 0:\n",
    "    print(\"YES\")\n",
    "else:\n",
    "    print(\"NO\")"
   ]
  },
  {
   "cell_type": "code",
   "execution_count": 2,
   "id": "b0978351",
   "metadata": {
    "ExecuteTime": {
     "end_time": "2021-09-18T13:15:42.832334Z",
     "start_time": "2021-09-18T13:15:05.168303Z"
    }
   },
   "outputs": [
    {
     "name": "stdout",
     "output_type": "stream",
     "text": [
      "3\n",
      "3 -1 7\n",
      "-5 2 -4\n",
      "2 -1 -3\n",
      "YES\n"
     ]
    }
   ],
   "source": [
    "#Second Run"
   ]
  },
  {
   "cell_type": "code",
   "execution_count": null,
   "id": "a04e6406",
   "metadata": {},
   "outputs": [],
   "source": []
  }
 ],
 "metadata": {
  "kernelspec": {
   "display_name": "Python 3",
   "language": "python",
   "name": "python3"
  },
  "language_info": {
   "codemirror_mode": {
    "name": "ipython",
    "version": 3
   },
   "file_extension": ".py",
   "mimetype": "text/x-python",
   "name": "python",
   "nbconvert_exporter": "python",
   "pygments_lexer": "ipython3",
   "version": "3.8.8"
  },
  "toc": {
   "base_numbering": 1,
   "nav_menu": {},
   "number_sections": true,
   "sideBar": true,
   "skip_h1_title": false,
   "title_cell": "Table of Contents",
   "title_sidebar": "Contents",
   "toc_cell": false,
   "toc_position": {},
   "toc_section_display": true,
   "toc_window_display": false
  }
 },
 "nbformat": 4,
 "nbformat_minor": 5
}
