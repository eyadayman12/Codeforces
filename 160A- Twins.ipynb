{
 "cells": [
  {
   "cell_type": "markdown",
   "id": "a601adf7",
   "metadata": {},
   "source": [
    "\n",
    "# Codeforces Problem 160A- Twins"
   ]
  },
  {
   "cell_type": "code",
   "execution_count": 48,
   "id": "5906f375",
   "metadata": {
    "ExecuteTime": {
     "end_time": "2021-09-22T15:47:24.408855Z",
     "start_time": "2021-09-22T15:46:56.140980Z"
    }
   },
   "outputs": [
    {
     "name": "stdout",
     "output_type": "stream",
     "text": [
      "2\n",
      "3 3\n",
      "2\n"
     ]
    }
   ],
   "source": [
    "n = int(input())\n",
    "coins_values = list(map(int, input().split()))\n",
    "coins_values = sorted(coins_values, reverse=True)\n",
    "my_sum = min_num_of_coin = 0\n",
    "bro_sum = sum(coins_values)\n",
    "for i in range(n):\n",
    "    my_sum += coins_values[i]\n",
    "    bro_sum -= coins_values[i]\n",
    "    min_num_of_coin += 1\n",
    "    if my_sum > bro_sum:\n",
    "        break\n",
    "        \n",
    "print(min_num_of_coin)"
   ]
  },
  {
   "cell_type": "code",
   "execution_count": 50,
   "id": "f913c4cd",
   "metadata": {
    "ExecuteTime": {
     "end_time": "2021-09-22T15:51:58.992584Z",
     "start_time": "2021-09-22T15:51:56.483044Z"
    }
   },
   "outputs": [
    {
     "name": "stdout",
     "output_type": "stream",
     "text": [
      "3\n",
      "2 1 2\n",
      "2\n"
     ]
    }
   ],
   "source": [
    "#Second Run"
   ]
  }
 ],
 "metadata": {
  "kernelspec": {
   "display_name": "Python 3",
   "language": "python",
   "name": "python3"
  },
  "language_info": {
   "codemirror_mode": {
    "name": "ipython",
    "version": 3
   },
   "file_extension": ".py",
   "mimetype": "text/x-python",
   "name": "python",
   "nbconvert_exporter": "python",
   "pygments_lexer": "ipython3",
   "version": "3.8.8"
  },
  "toc": {
   "base_numbering": 1,
   "nav_menu": {},
   "number_sections": true,
   "sideBar": true,
   "skip_h1_title": false,
   "title_cell": "Table of Contents",
   "title_sidebar": "Contents",
   "toc_cell": false,
   "toc_position": {},
   "toc_section_display": true,
   "toc_window_display": false
  }
 },
 "nbformat": 4,
 "nbformat_minor": 5
}
