{
 "cells": [
  {
   "cell_type": "markdown",
   "id": "31c7695b",
   "metadata": {},
   "source": [
    "# Codeforces Problem 116A- Tram"
   ]
  },
  {
   "cell_type": "code",
   "execution_count": 1,
   "id": "621547de",
   "metadata": {
    "ExecuteTime": {
     "end_time": "2021-09-20T07:39:45.503605Z",
     "start_time": "2021-09-20T07:39:35.303882Z"
    }
   },
   "outputs": [
    {
     "name": "stdout",
     "output_type": "stream",
     "text": [
      "4\n",
      "0 3\n",
      "2 5\n",
      "4 2\n",
      "4 0\n",
      "6\n"
     ]
    }
   ],
   "source": [
    "n = int(input())\n",
    "a,b = map(int, input().split())\n",
    "passangers = b\n",
    "capicty = b\n",
    "\n",
    "for i in range(n-1):\n",
    "    a,b = map(int, input().split())\n",
    "    passangers = passangers - a + b\n",
    "    if passangers > capicty:\n",
    "        capicty = passangers\n",
    "        \n",
    "print(capicty)"
   ]
  }
 ],
 "metadata": {
  "kernelspec": {
   "display_name": "Python 3",
   "language": "python",
   "name": "python3"
  },
  "language_info": {
   "codemirror_mode": {
    "name": "ipython",
    "version": 3
   },
   "file_extension": ".py",
   "mimetype": "text/x-python",
   "name": "python",
   "nbconvert_exporter": "python",
   "pygments_lexer": "ipython3",
   "version": "3.8.8"
  },
  "toc": {
   "base_numbering": 1,
   "nav_menu": {},
   "number_sections": true,
   "sideBar": true,
   "skip_h1_title": false,
   "title_cell": "Table of Contents",
   "title_sidebar": "Contents",
   "toc_cell": false,
   "toc_position": {},
   "toc_section_display": true,
   "toc_window_display": false
  }
 },
 "nbformat": 4,
 "nbformat_minor": 5
}
