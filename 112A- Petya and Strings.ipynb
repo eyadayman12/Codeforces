{
 "cells": [
  {
   "cell_type": "markdown",
   "id": "d705ac0b",
   "metadata": {},
   "source": [
    "# Codeforces problem 112A- Petya and Strings"
   ]
  },
  {
   "cell_type": "code",
   "execution_count": 4,
   "id": "568f4291",
   "metadata": {
    "ExecuteTime": {
     "end_time": "2021-09-13T23:30:21.400594Z",
     "start_time": "2021-09-13T23:30:17.427346Z"
    }
   },
   "outputs": [
    {
     "name": "stdout",
     "output_type": "stream",
     "text": [
      "aaaa\n",
      "aaaA\n",
      "0\n"
     ]
    }
   ],
   "source": [
    "first_string = input().lower()\n",
    "second_string = input().lower()\n",
    "\n",
    "if first_string < second_string:\n",
    "    print('-1')\n",
    "    \n",
    "elif first_string > second_string:\n",
    "    print('1')\n",
    "    \n",
    "else:\n",
    "    print('0')"
   ]
  },
  {
   "cell_type": "code",
   "execution_count": 5,
   "id": "7ba874f8",
   "metadata": {
    "ExecuteTime": {
     "end_time": "2021-09-13T23:30:36.888034Z",
     "start_time": "2021-09-13T23:30:33.351630Z"
    }
   },
   "outputs": [
    {
     "name": "stdout",
     "output_type": "stream",
     "text": [
      "abs\n",
      "Abz\n",
      "-1\n"
     ]
    }
   ],
   "source": [
    "#Second Run"
   ]
  },
  {
   "cell_type": "code",
   "execution_count": 6,
   "id": "4fbd7afe",
   "metadata": {
    "ExecuteTime": {
     "end_time": "2021-09-13T23:30:51.682270Z",
     "start_time": "2021-09-13T23:30:42.739927Z"
    }
   },
   "outputs": [
    {
     "name": "stdout",
     "output_type": "stream",
     "text": [
      "abcdefg\n",
      "ABCDEfF\n",
      "1\n"
     ]
    }
   ],
   "source": [
    "#Third Run"
   ]
  }
 ],
 "metadata": {
  "kernelspec": {
   "display_name": "Python 3",
   "language": "python",
   "name": "python3"
  },
  "language_info": {
   "codemirror_mode": {
    "name": "ipython",
    "version": 3
   },
   "file_extension": ".py",
   "mimetype": "text/x-python",
   "name": "python",
   "nbconvert_exporter": "python",
   "pygments_lexer": "ipython3",
   "version": "3.8.8"
  },
  "toc": {
   "base_numbering": 1,
   "nav_menu": {},
   "number_sections": true,
   "sideBar": true,
   "skip_h1_title": false,
   "title_cell": "Table of Contents",
   "title_sidebar": "Contents",
   "toc_cell": false,
   "toc_position": {},
   "toc_section_display": true,
   "toc_window_display": false
  }
 },
 "nbformat": 4,
 "nbformat_minor": 5
}
